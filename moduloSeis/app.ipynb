{
 "cells": [
  {
   "cell_type": "markdown",
   "metadata": {},
   "source": [
    "# Modulo seis"
   ]
  },
  {
   "cell_type": "markdown",
   "metadata": {},
   "source": [
    "## Ejercicio 1"
   ]
  },
  {
   "cell_type": "code",
   "execution_count": 5,
   "metadata": {},
   "outputs": [
    {
     "name": "stdout",
     "output_type": "stream",
     "text": [
      "['Marte', 'Jupiter', 'Tierra', 'Venus']\n",
      "Pluton\n"
     ]
    }
   ],
   "source": [
    "planetas = ['Marte', 'Jupiter', 'Tierra', 'Venus']\n",
    "print(planetas)\n",
    "planetas.append('Pluton')\n",
    "print(planetas[len(planetas) - 1])"
   ]
  },
  {
   "cell_type": "markdown",
   "metadata": {},
   "source": [
    "## Ejercicio 2"
   ]
  },
  {
   "cell_type": "code",
   "execution_count": 10,
   "metadata": {},
   "outputs": [
    {
     "name": "stdout",
     "output_type": "stream",
     "text": [
      "Los planetas mas cercas a Tierra son: \n",
      "['Mercurio', 'Venus']\n",
      "Los planetas mas lejos de Tierra son: \n",
      "['Marte', 'Jupiter', 'Saturno', 'Neptuno']\n"
     ]
    }
   ],
   "source": [
    "planetasB = ['Mercurio', 'Venus', 'Tierra', 'Marte', 'Jupiter', 'Saturno', 'Neptuno']\n",
    "\n",
    "planetaPorUsuario = input('Ingresa el nombre del planeta: ')\n",
    "\n",
    "planetaIndex = planetasB.index(planetaPorUsuario)\n",
    "\n",
    "print(f'Los planetas mas cercas a {planetaPorUsuario} son: ')\n",
    "print(planetasB[0:planetaIndex])\n",
    "\n",
    "print(f'Los planetas mas lejos de {planetaPorUsuario} son: ')\n",
    "print(planetasB[planetaIndex + 1:])\n"
   ]
  }
 ],
 "metadata": {
  "interpreter": {
   "hash": "f574d1f3c70726c78d1e32c154a73d985ccd6f54b74a0ad66db16f77675af092"
  },
  "kernelspec": {
   "display_name": "Python 3.10.2 64-bit",
   "language": "python",
   "name": "python3"
  },
  "language_info": {
   "codemirror_mode": {
    "name": "ipython",
    "version": 3
   },
   "file_extension": ".py",
   "mimetype": "text/x-python",
   "name": "python",
   "nbconvert_exporter": "python",
   "pygments_lexer": "ipython3",
   "version": "3.10.2"
  },
  "orig_nbformat": 4
 },
 "nbformat": 4,
 "nbformat_minor": 2
}
