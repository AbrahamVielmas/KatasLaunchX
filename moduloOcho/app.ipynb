{
 "cells": [
  {
   "cell_type": "markdown",
   "metadata": {},
   "source": [
    "# Modulo 8\n",
    "\n",
    "## Ejercicio 1"
   ]
  },
  {
   "cell_type": "code",
   "execution_count": 4,
   "metadata": {},
   "outputs": [
    {
     "name": "stdout",
     "output_type": "stream",
     "text": [
      "El planeta Venus tiene 8 lunas.\n",
      "El planeta Venus tiene una circunferencia polar de 31416\n",
      "{'nombre': 'Venus', 'lunas': 8, 'circunferencia': {'polar': 31416, 'ecuatorial': 61413}}\n"
     ]
    }
   ],
   "source": [
    "planeta = {\n",
    "    'nombre': 'Venus',\n",
    "    'lunas': 8\n",
    "}\n",
    "\n",
    "print(f'El planeta {planeta[\"nombre\"]} tiene {planeta[\"lunas\"]} lunas.')\n",
    "\n",
    "planeta['circunferencia'] = {\n",
    "    'polar': 31416,\n",
    "    'ecuatorial': 61413\n",
    "}\n",
    "\n",
    "print(f'El planeta {planeta[\"nombre\"]} tiene una circunferencia polar de {planeta[\"circunferencia\"][\"polar\"]}')\n",
    "\n",
    "print(planeta)"
   ]
  },
  {
   "cell_type": "markdown",
   "metadata": {},
   "source": [
    "## Ejercicio 2"
   ]
  },
  {
   "cell_type": "code",
   "execution_count": 10,
   "metadata": {},
   "outputs": [
    {
     "name": "stdout",
     "output_type": "stream",
     "text": [
      "17.833333333333332\n"
     ]
    }
   ],
   "source": [
    "lunas_planetas = {\n",
    "    'mercury': 0,\n",
    "    'venus': 0,\n",
    "    'earth': 1,\n",
    "    'mars': 2,\n",
    "    'jupiter': 79,\n",
    "    'saturn': 82,\n",
    "    'uranus': 27,\n",
    "    'neptune': 14,\n",
    "    'pluto': 5,\n",
    "    'haumea': 2,\n",
    "    'makemake': 1,\n",
    "    'eris': 1\n",
    "}\n",
    "\n",
    "lunas = lunas_planetas.values()\n",
    "\n",
    "planetas = len(lunas_planetas.keys())\n",
    "\n",
    "totalLunas = 0\n",
    "\n",
    "for luna in lunas:\n",
    "    totalLunas += luna\n",
    "\n",
    "promedio = totalLunas / planetas\n",
    "\n",
    "print(promedio)"
   ]
  }
 ],
 "metadata": {
  "interpreter": {
   "hash": "f574d1f3c70726c78d1e32c154a73d985ccd6f54b74a0ad66db16f77675af092"
  },
  "kernelspec": {
   "display_name": "Python 3.10.2 64-bit",
   "language": "python",
   "name": "python3"
  },
  "language_info": {
   "codemirror_mode": {
    "name": "ipython",
    "version": 3
   },
   "file_extension": ".py",
   "mimetype": "text/x-python",
   "name": "python",
   "nbconvert_exporter": "python",
   "pygments_lexer": "ipython3",
   "version": "3.10.2"
  },
  "orig_nbformat": 4
 },
 "nbformat": 4,
 "nbformat_minor": 2
}
